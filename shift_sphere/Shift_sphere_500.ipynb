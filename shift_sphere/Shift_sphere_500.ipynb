{
 "cells": [
  {
   "cell_type": "markdown",
   "metadata": {},
   "source": [
    "# Continuous optimization - Shifted Sphere - dimension 500"
   ]
  },
  {
   "cell_type": "markdown",
   "metadata": {},
   "source": [
    "## Importing libraries"
   ]
  },
  {
   "cell_type": "code",
   "execution_count": 34,
   "metadata": {},
   "outputs": [],
   "source": [
    "import pickle\n",
    "import pandas as pd\n",
    "import os\n",
    "import numpy as np\n",
    "\n",
    "import os\n",
    "import time\n",
    "import math\n",
    "import pandas as pd\n",
    "import numpy as np\n",
    "import matplotlib.pyplot as plt\n",
    "from numba import jit\n",
    "from scipy import optimize"
   ]
  },
  {
   "cell_type": "code",
   "execution_count": 35,
   "metadata": {},
   "outputs": [],
   "source": [
    "funcs = {\"sphere\": 0, \"schwefel\": 1, \"rosenbrock\": 2, \"rastrigin\": 3, \"griewank\": 4, \"ackley\": 5}\n",
    "funcs_dispname = {\"sphere\": \"F1 : Shifted Sphere Function\",\n",
    "                  \"schwefel\": \"F2 : Schwefel’s Problem 2.21\",\n",
    "                  \"rosenbrock\": \"F3 : Shifted Rosenbrock’s Function\",\n",
    "                  \"rastrigin\": \"F4 : Shifted Rastrigin’s Function\",\n",
    "                  \"griewank\": \"F5 : Shifted Griewank’s Function\",\n",
    "                  \"ackley\": \"F6 : Shifted Ackley’s Function\"}"
   ]
  },
  {
   "cell_type": "markdown",
   "metadata": {},
   "source": [
    "## Open and extract the function data"
   ]
  },
  {
   "cell_type": "code",
   "execution_count": 36,
   "metadata": {},
   "outputs": [
    {
     "name": "stdout",
     "output_type": "stream",
     "text": [
      "function sphere composed of 1000 values have been exported to sphere.csv\n",
      "function schwefel composed of 1000 values have been exported to schwefel.csv\n",
      "function rosenbrock composed of 1000 values have been exported to rosenbrock.csv\n",
      "function rastrigin composed of 1000 values have been exported to rastrigin.csv\n",
      "function griewank composed of 1000 values have been exported to griewank.csv\n",
      "function ackley composed of 1000 values have been exported to ackley.csv\n",
      "81\n",
      "function f_bias composed of 6 values have been exported to f_bias.csv\n"
     ]
    }
   ],
   "source": [
    "path = '../data/'\n",
    "export_path = '../data/'\n",
    "\n",
    "\n",
    "with open(path +'data.txt','r') as file:\n",
    "    lines = file.readlines()\n",
    "\n",
    "j=0\n",
    "while j < len(lines):\n",
    "    if lines[j][0:5] == '#endif':\n",
    "        break\n",
    "    if lines[j][0:6] == 'double':\n",
    "        pb_name = lines[j].split(' ')[1].split('[')[0]\n",
    "        if (pb_name != 'f_bias'):\n",
    "            j += 1 # increment line\n",
    "            list_values= []\n",
    "            while ('}' in lines[j]) == False:\n",
    "                line = lines[j].strip()\n",
    "                if len(line) > 0:\n",
    "                    numbers = line.split(',')\n",
    "                    numbers2 = [float(i.strip()) for i in numbers if len(i) > 0]\n",
    "                    list_values += numbers2\n",
    "                j += 1\n",
    "        else:\n",
    "            list_values = []\n",
    "            print(j)\n",
    "            numbers = lines[j].split('{')[1].split('}')[0]\n",
    "            n = len(numbers)\n",
    "            li2 = numbers[1:n].split(',')\n",
    "            numbers2 = [float(i.strip()) for i in li2]\n",
    "            list_values += numbers2\n",
    "            j += 1\n",
    "        df = pd.DataFrame(list_values)\n",
    "        df.to_csv(str(export_path) + str(pb_name) +'.csv', header=['List_values'], index=False)\n",
    "        print(\"function %s composed of %d values have been exported to %s\" %(pb_name,len(list_values),pb_name+'.csv'))\n",
    "    j += 1\n"
   ]
  },
  {
   "cell_type": "markdown",
   "metadata": {},
   "source": [
    "**Remark** : We created by hand a file called **interval.csv**."
   ]
  },
  {
   "cell_type": "code",
   "execution_count": 50,
   "metadata": {},
   "outputs": [],
   "source": [
    "def read_values(func_name):\n",
    "    values_path = str(path) + str(func_name) + '.csv'\n",
    "    bias_path = str(path) + 'f_bias.csv'\n",
    "    interval_path = str(path) + 'interval.csv'\n",
    "\n",
    "    func_df = pd.read_csv(values_path)\n",
    "    bias_df = pd.read_csv(bias_path)\n",
    "    interval_df = pd.read_csv(interval_path,sep=';')\n",
    "\n",
    "    funcval = func_df.List_values.values\n",
    "    funcbias = bias_df.List_values.values[funcs[func_name]]\n",
    "    search_space = list(interval_df.iloc[funcs[func_name],1:3])\n",
    "    return funcval, funcbias, search_space\n",
    "\n",
    "\n",
    "@jit(nopython=True)\n",
    "def eval_cost(x, dim):\n",
    "    if func_name == \"sphere\":\n",
    "        F = 0\n",
    "        for i in range(dim - 1):\n",
    "            z = x[i] - funcval[i]\n",
    "            F += z * z\n",
    "        result = F + funcbias\n",
    "    elif func_name == \"schwefel\":\n",
    "        F = abs(x[0] - funcval[0])\n",
    "        for i in range(1, dim - 1):\n",
    "            z = x[i] - funcval[i]\n",
    "            F = max(F, abs(z))\n",
    "        result = F + funcbias\n",
    "    elif func_name == \"rosenbrock\":\n",
    "        F = 0\n",
    "        y = np.empty(dim)\n",
    "        for i in range(dim - 1):\n",
    "            y[i] = x[i] - funcval[i] + 1\n",
    "        for i in range(dim - 2):\n",
    "            F += 100 * ((y[i] ** 2 - y[i + 1]) ** 2) + (y[i] - 1) ** 2\n",
    "        result = F + funcbias\n",
    "    elif func_name == \"rastrigin\":\n",
    "        F = 0\n",
    "        for i in range(dim - 1):\n",
    "            z = x[i] - funcval[i]\n",
    "            F += z ** 2 - 10 * math.cos(2 * math.pi * z) + 10\n",
    "        result = F + funcbias\n",
    "\n",
    "    elif func_name == \"griewank\":\n",
    "        F1 = 0\n",
    "        F2 = 1\n",
    "        for i in range(dim - 1):\n",
    "            z = x[i] - funcval[i]\n",
    "            F1 += z ** 2 / 4000\n",
    "            F2 += math.cos(z / math.sqrt(i + 1))\n",
    "        result = F1 - F2 + 1 + funcbias\n",
    "    elif func_name == \"ackley\":\n",
    "        Sum1 = 0\n",
    "        Sum2 = 0\n",
    "        for i in range(dim - 1):\n",
    "            z = x[i] - funcval[i]\n",
    "            Sum1 += z ** 2\n",
    "            Sum2 += math.cos(2 * math.pi * z)\n",
    "        result = -20 * math.exp(-0.2 * math.sqrt(Sum1 / dim)) - math.exp(Sum2 / dim) + 20 + math.e + funcbias\n",
    "    else:\n",
    "        result = 0\n",
    "\n",
    "    return result\n",
    "\n",
    "\n",
    "def optimize_minimize(dim, x0, search_space, method, options):\n",
    "#     fitness_per_eval=[]\n",
    "    def f(x, dim):\n",
    "        result = abs(eval_cost(x, dim) - funcbias)\n",
    "        fitness_per_eval.append(result)\n",
    "        return result\n",
    "\n",
    "    t1 = time.time()\n",
    "    result = optimize.minimize(f, args=(dim), x0=cur_x, method=method, options=options)\n",
    "    t2 = time.time()\n",
    "\n",
    "    return result, t2 - t1, fitness_per_eval\n",
    "\n",
    "\n",
    "# function to make print report of function solving\n",
    "\n",
    "def print_solution(dimension, method, options, result, log, duration):\n",
    "    algorithm_name = method\n",
    "    parameters = options\n",
    "    solution_x = result.x\n",
    "    fitness = log[-1]\n",
    "    n_evals = len(log)\n",
    "    niter = result.nit\n",
    "    print('-' * 100)\n",
    "    print(\"Dimension: %d\" % dimension)\n",
    "    print(\"Function studied : %s\" % funcs_dispname[func_name])\n",
    "    print(\"Search Space: \", search_space)\n",
    "    print(\"Global Optimum: %.2f\\n\" % funcbias)\n",
    "    print('-' * 100)\n",
    "    print(\"Chosen algorithm: %s\" % algorithm_name)\n",
    "    print(\"Parameters: \\n%s\" % parameters)\n",
    "    print(\"Fitness: %f\" % fitness)\n",
    "    print(\"Solution: \")\n",
    "    with pd.option_context('display.max_rows', 10):\n",
    "        print(pd.DataFrame(solution_x, columns=['X']))\n",
    "    print('-' * 60)\n",
    "    print(\"Number of iterations: %d\" % n_evals)\n",
    "    print(\"Stopping criterion: gtol achieved: %.2e\" % options['gtol'])\n",
    "    print(result.message)\n",
    "    print(\"computational time: %.3f seconds\" % duration)\n",
    "    \n",
    "    plt.figure()\n",
    "    plt.plot(log)\n",
    "    plt.xlabel(\"iterations\")\n",
    "    plt.ylabel(\"fitness: f(x)-f(x*)\")\n",
    "    plt.savefig(\"./Results/sol_sphere_500\" + \".png\")\n",
    "    plt.show()\n",
    "    "
   ]
  },
  {
   "cell_type": "code",
   "execution_count": 38,
   "metadata": {},
   "outputs": [],
   "source": [
    "\n",
    "def plot_func(func_name):\n",
    "    DIM = 2\n",
    "    x = np.linspace(search_space[0], search_space[1], 250)\n",
    "    X = np.meshgrid(x, x)\n",
    "\n",
    "    if func_name == \"sphere\":\n",
    "        F = 0\n",
    "        for i in range(DIM - 1):\n",
    "            z = X[i] - funcval[i]\n",
    "            F += z ** 2\n",
    "        result = F + bias\n",
    "        fig = plt.figure(figsize=(16, 8))\n",
    "        ax = fig.add_subplot(1, 1, 1, projection='3d')\n",
    "        ax.plot_surface(X[0], X[1], result, rstride=5, cstride=5, cmap='jet', alpha=.4, edgecolor='none')\n",
    "        plt.show()\n",
    "    elif func_name == \"schwefel\":\n",
    "        F = np.abs(X[0] - funcval[0]) # initial\n",
    "        for i in range(1, DIM - 1):\n",
    "            z = X[i] - funcval[i]\n",
    "            F = np.max(F, np.abs(z))\n",
    "        result = F + bias\n",
    "        fig = plt.figure(figsize=(16, 8))\n",
    "        ax = fig.add_subplot(1, 1, 1, projection='3d')\n",
    "        surf = ax.plot_surface(X[0], X[1], result, rstride=5, cstride=5, cmap='jet', alpha=.4, edgecolor='none')\n",
    "        fig.colorbar(surf, shrink=0.5, aspect=5)\n",
    "        plt.show()\n",
    "    elif func_name == \"rosenbrock\":\n",
    "        F = 0\n",
    "        z = np.ndarray(DIM)\n",
    "\n",
    "        for i in range(DIM - 1):\n",
    "            z[i] = X[i] - np.ndarray(funcval[i]) + np.ndarray(1)\n",
    "        for i in range(DIM - 2):\n",
    "            F += 100 * (z[i + 1] ** 2.0 - z[i] ** 2.0) + (1 - z[i]) ** 2.0\n",
    "            result = F + bias\n",
    "        fig = plt.figure(figsize=(16, 8))\n",
    "        ax = fig.add_subplot(1, 1, 1, projection='3d')\n",
    "        ax.plot_surface(X[0], X[1], result, rstride=5, cstride=5, cmap='jet', alpha=.4, edgecolor='none')\n",
    "        plt.show()\n",
    "    elif func_name == \"rastrigin\":\n",
    "        F = 0\n",
    "        for i in range(DIM - 1):\n",
    "            z = X[i] - funcval[i]\n",
    "            F += z ** 2 - 10 * np.cos(2 * np.pi * z) + 10\n",
    "        result = F + bias\n",
    "        fig = plt.figure(figsize=(16, 8))\n",
    "        ax = fig.add_subplot(1, 1, 1, projection='3d')\n",
    "        ax.plot_surface(X[0], X[1], result, rstride=5, cstride=5, cmap='jet', alpha=.4, edgecolor='none')\n",
    "        plt.show()\n",
    "    elif func_name == \"griewank\":\n",
    "        F1 = 0\n",
    "        F2 = 1\n",
    "        for i in range(DIM - 1):\n",
    "            z = X[i] - funcval[i]\n",
    "            F1 += z ** 2 / 4000\n",
    "            F2 += np.cos(z / np.sqrt(i + 1))\n",
    "        result = F1 - F2 + 1 + bias\n",
    "        fig = plt.figure(figsize=(16, 8))\n",
    "        ax = fig.add_subplot(1, 1, 1, projection='3d')\n",
    "        ax.plot_surface(X[0], X[1], result, rstride=5, cstride=5, cmap='jet', alpha=.4, edgecolor='none')\n",
    "        plt.show()\n",
    "    elif func_name == \"ackley\":\n",
    "        Sum_0 = 0\n",
    "        Sum_1 = 0\n",
    "        for i in range(DIM - 1):\n",
    "            z = X[i] - funcval[i]\n",
    "            Sum_0 += z ** 2\n",
    "            Sum_1 += np.cos(2 * math.pi * z)\n",
    "        result = -20 * np.exp(-0.2 * np.sqrt(Sum_0 / DIM)) - np.exp(Sum_1 / DIM) + 20 + math.e + bias\n",
    "        fig = plt.figure(figsize=(16, 8))\n",
    "        ax = fig.add_subplot(1, 1, 1, projection='3d')\n",
    "        ax.plot_surface(X[0], X[1], result, rstride=5, cstride=5, cmap='jet', alpha=.4, edgecolor='none')\n",
    "        plt.show()\n",
    "    else:\n",
    "        result = 0"
   ]
  },
  {
   "cell_type": "markdown",
   "metadata": {},
   "source": [
    "## Compare & run & choose the algorithm by printing its fitness function"
   ]
  },
  {
   "cell_type": "code",
   "execution_count": 48,
   "metadata": {},
   "outputs": [
    {
     "data": {
      "image/png": "[encoded data removed]",
      "text/plain": [
       "<Figure size 432x288 with 1 Axes>"
      ]
     },
     "metadata": {
      "needs_background": "light"
     },
     "output_type": "display_data"
    }
   ],
   "source": [
    "func_name = 'sphere'\n",
    "funcval, funcbias, search_space = read_values(func_name)\n",
    "DIM = 500\n",
    "\n",
    "xmin, xmax = search_space\n",
    "x_min = xmin * np.ones(DIM)\n",
    "x_max = xmax * np.ones(DIM)\n",
    "cur_x = np.random.uniform(min(x_min), max(x_max), (1, DIM))\n",
    "\n",
    "from copy import deepcopy\n",
    "j=0\n",
    "\n",
    "fitness_per_eval = []\n",
    "options = {'maxiter': 100, 'disp': False}\n",
    "\n",
    "model= ['BFGS','Nelder-Mead','Powell','CG','L-BFGS-B','SLSQP','TNC','COBYLA'] #,'trust-ncg'\n",
    "list3=len(model) * [0]\n",
    "for m in model:\n",
    "    sol = optimize_minimize(DIM,cur_x, search_space, m, options)\n",
    "    sol2=sol[2]\n",
    "    list3[j] = deepcopy(sol2)\n",
    "    j=j+1\n",
    "\n",
    "l=[0]\n",
    "for j in list3:\n",
    "    l.append(len(j))\n",
    "\n",
    "# %matplotlib inline\n",
    "    \n",
    "for m in range(len(model)):\n",
    "    plt.plot(list3[m][l[m]:l[m+1]], label=model[m])\n",
    "    plt.xlabel(\"iterations\")\n",
    "    plt.ylabel(\"fitness: f(x)-f(x*)\")\n",
    "    plt.xlim(0,5000)\n",
    "    plt.ylim(0,0.4*10**7)\n",
    "    plt.legend()\n",
    "plt.savefig(\"./Results/comp_sphere_500.png\")\n",
    "plt.show()\n"
   ]
  },
  {
   "cell_type": "markdown",
   "metadata": {},
   "source": [
    "BFGS seems to be adpated for this problem. "
   ]
  },
  {
   "cell_type": "markdown",
   "metadata": {},
   "source": [
    "## Apply the more adapted algorithm"
   ]
  },
  {
   "cell_type": "code",
   "execution_count": 51,
   "metadata": {},
   "outputs": [
    {
     "name": "stdout",
     "output_type": "stream",
     "text": [
      "----------------------------------------------------------------------------------------------------\n",
      "Dimension: 50\n",
      "Function studied : F1 : Shifted Sphere Function\n",
      "Search Space:  [-100, 100]\n",
      "Global Optimum: -450.00\n",
      "\n",
      "----------------------------------------------------------------------------------------------------\n",
      "Chosen algorithm: BFGS\n",
      "Parameters: \n",
      "{'maxiter': 100, 'gtol': 1e-05, 'disp': False}\n",
      "Fitness: 0.000000\n",
      "Solution: \n",
      "             X\n",
      "0    97.249939\n",
      "1    77.060987\n",
      "2   -19.031147\n",
      "3    25.428699\n",
      "4   -22.908801\n",
      "..         ...\n",
      "495   0.469896\n",
      "496  56.368823\n",
      "497 -66.902334\n",
      "498  73.065521\n",
      "499 -87.339106\n",
      "\n",
      "[500 rows x 1 columns]\n",
      "------------------------------------------------------------\n",
      "Number of iterations: 5020\n",
      "Stopping criterion: gtol achieved: 1.00e-05\n",
      "Optimization terminated successfully.\n",
      "computational time: 0.305 seconds\n"
     ]
    },
    {
     "data": {
      "image/png": "[encoded data removed]",
      "text/plain": [
       "<Figure size 432x288 with 1 Axes>"
      ]
     },
     "metadata": {
      "needs_background": "light"
     },
     "output_type": "display_data"
    }
   ],
   "source": [
    "func_name = 'sphere'\n",
    "funcval, funcbias, search_space = read_values(func_name)\n",
    "\n",
    "fitness_per_eval = []\n",
    "DIM = 50\n",
    "method = 'BFGS' # Chosen algorithm\n",
    "options = {'maxiter': 100, 'gtol': 1e-5, 'disp': False}\n",
    "\n",
    "result, duration, logs = optimize_minimize(DIM, cur_x, search_space, method, options)\n",
    "print_solution(dimension=DIM, method=method, options=options, result=result, log=logs, duration=duration)\n"
   ]
  },
  {
   "cell_type": "code",
   "execution_count": null,
   "metadata": {},
   "outputs": [],
   "source": []
  }
 ],
 "metadata": {
  "kernelspec": {
   "display_name": "Python 3",
   "language": "python",
   "name": "python3"
  },
  "language_info": {
   "codemirror_mode": {
    "name": "ipython",
    "version": 3
   },
   "file_extension": ".py",
   "mimetype": "text/x-python",
   "name": "python",
   "nbconvert_exporter": "python",
   "pygments_lexer": "ipython3",
   "version": "3.7.4"
  }
 },
 "nbformat": 4,
 "nbformat_minor": 2
}

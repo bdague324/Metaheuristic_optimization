{
 "cells": [
  {
   "cell_type": "markdown",
   "metadata": {},
   "source": [
    "# Continuous optimization - Shifted Rosenbrock - dimension 50"
   ]
  },
  {
   "cell_type": "markdown",
   "metadata": {},
   "source": [
    "## Importing libraries"
   ]
  },
  {
   "cell_type": "code",
   "execution_count": 2,
   "metadata": {},
   "outputs": [],
   "source": [
    "import pickle\n",
    "import pandas as pd\n",
    "import os\n",
    "import numpy as np\n",
    "import os\n",
    "import time\n",
    "import math\n",
    "import matplotlib.pyplot as plt\n",
    "from numba import jit\n",
    "from scipy import optimize\n",
    "import pygmo as pg\n",
    "from mpl_toolkits import mplot3d"
   ]
  },
  {
   "cell_type": "code",
   "execution_count": 3,
   "metadata": {},
   "outputs": [],
   "source": [
    "path = '../data/'\n",
    "export_path = '../data/'\n",
    "\n",
    "Dict_funcs = {\"sphere\": 0, \"schwefel\": 1, \"rosenbrock\": 2, \"rastrigin\": 3, \"griewank\": 4, \"ackley\": 5}\n",
    "\n",
    "funcs_name = {\"sphere\": \"F1 : Shifted Sphere Function\", \"schwefel\": \"F2 : Schwefel’s Problem 2.21\", \"rosenbrock\": \"F3 : Shifted Rosenbrock’s Function\",\n",
    "                  \"rastrigin\": \"F4 : Shifted Rastrigin’s Function\",\n",
    "                  \"griewank\": \"F5 : Shifted Griewank’s Function\",\n",
    "                  \"ackley\": \"F6 : Shifted Ackley’s Function\"}"
   ]
  },
  {
   "cell_type": "markdown",
   "metadata": {},
   "source": [
    "## Define a read function "
   ]
  },
  {
   "cell_type": "code",
   "execution_count": 4,
   "metadata": {},
   "outputs": [],
   "source": [
    "def read_values(func_name):\n",
    "    values_path = str(path) + str(func_name) + '.csv'\n",
    "    bias_path = str(path) + 'f_bias.csv'\n",
    "    interval_path = str(path) + 'interval.csv'\n",
    "\n",
    "    func_val = pd.read_csv(values_path)\n",
    "    bias_val = pd.read_csv(bias_path)\n",
    "    interval_df = pd.read_csv(interval_path,sep=';')\n",
    "\n",
    "    funcval = func_val.List_values.values\n",
    "    bias = bias_val.List_values.values[Dict_funcs[func_name]]\n",
    "    search_space = list(interval_df.iloc[Dict_funcs[func_name],1:3])\n",
    "\n",
    "    return funcval, bias, search_space"
   ]
  },
  {
   "cell_type": "markdown",
   "metadata": {},
   "source": [
    "## Definition of the functions"
   ]
  },
  {
   "cell_type": "code",
   "execution_count": 5,
   "metadata": {},
   "outputs": [],
   "source": [
    "@jit(nopython=True)\n",
    "def eval_cost(x, dim):\n",
    "    if func_name == \"sphere\":\n",
    "        F = 0\n",
    "        for i in range(dim - 1):\n",
    "            z = x[i] - funcval[i]\n",
    "            F += z ** 2 # sum of z²\n",
    "        result = F + bias # sum of z² + bias\n",
    "    elif func_name == \"schwefel\":\n",
    "        F = abs(x[0] - funcval[0]) # initial\n",
    "        for i in range(1, dim - 1):\n",
    "            z = x[i] - funcval[i]\n",
    "            F = max(F, abs(z)) # max 'absZ_i, i in [1,D]}\n",
    "        result = F + bias\n",
    "    elif func_name == \"rosenbrock\":\n",
    "        F = 0\n",
    "        z = np.empty(dim)\n",
    "        for i in range(dim - 1):\n",
    "            z[i] = x[i] - funcval[i] + 1\n",
    "        for i in range(dim - 2):\n",
    "            F += 100 * (z[i + 1] ** 2 - z[i] ** 2) + (1 - z[i]) ** 2\n",
    "        result = F + bias\n",
    "    elif func_name == \"rastrigin\":\n",
    "        F = 0\n",
    "        for i in range(dim - 1):\n",
    "            z = x[i] - funcval[i]\n",
    "            F += z ** 2 - 10 * math.cos(2 * math.pi * z) + 10\n",
    "        result = F + bias\n",
    "    elif func_name == \"griewank\":\n",
    "        F1 = 0\n",
    "        F2 = 1\n",
    "        for i in range(dim - 1):\n",
    "            z = x[i] - funcval[i]\n",
    "            F1 += z ** 2 / 4000\n",
    "            F2 += math.cos(z / math.sqrt(i + 1))\n",
    "        result = F1 - F2 + 1 + bias\n",
    "    elif func_name == \"ackley\":\n",
    "        Sum_0 = 0\n",
    "        Sum_1 = 0\n",
    "        for i in range(dim - 1):\n",
    "            z = x[i] - funcval[i]\n",
    "            Sum_0 += z ** 2\n",
    "            Sum_1 += math.cos(2 * math.pi * z)\n",
    "        result = -20 * math.exp(-0.2 * math.sqrt(Sum_0 / dim)) - math.exp(Sum_1 / dim) + 20 + math.e + bias\n",
    "    else:\n",
    "        result = 0\n",
    "    return result\n",
    "\n",
    "def plot_func(func_name):\n",
    "    DIM = 2\n",
    "    x = np.linspace(search_space[0], search_space[1], 250)\n",
    "    X = np.meshgrid(x, x)\n",
    "\n",
    "    if func_name == \"sphere\":\n",
    "        F = 0\n",
    "        for i in range(DIM - 1):\n",
    "            z = X[i] - funcval[i]\n",
    "            F += z ** 2\n",
    "        result = F + bias\n",
    "        fig = plt.figure(figsize=(16, 8))\n",
    "        ax = fig.add_subplot(1, 1, 1, projection='3d')\n",
    "        ax.plot_surface(X[0], X[1], result, rstride=5, cstride=5, cmap='jet', alpha=.4, edgecolor='none')\n",
    "        plt.show()\n",
    "    elif func_name == \"schwefel\":\n",
    "        F = np.abs(X[0] - funcval[0]) # initial\n",
    "        for i in range(1, DIM - 1):\n",
    "            z = X[i] - funcval[i]\n",
    "            F = np.max(F, np.abs(z))\n",
    "        result = F + bias\n",
    "        fig = plt.figure(figsize=(16, 8))\n",
    "        ax = fig.add_subplot(1, 1, 1, projection='3d')\n",
    "        surf = ax.plot_surface(X[0], X[1], result, rstride=5, cstride=5, cmap='jet', alpha=.4, edgecolor='none')\n",
    "        fig.colorbar(surf, shrink=0.5, aspect=5)\n",
    "        plt.show()\n",
    "    elif func_name == \"rosenbrock\":\n",
    "        F = 0\n",
    "        z = np.ndarray(DIM)\n",
    "\n",
    "        for i in range(DIM - 1):\n",
    "            z[i] = X[i] - np.ndarray(funcval[i]) + np.ndarray(1)\n",
    "        for i in range(DIM - 2):\n",
    "            F += 100 * (z[i + 1] ** 2.0 - z[i] ** 2.0) + (1 - z[i]) ** 2.0\n",
    "            result = F + bias\n",
    "        fig = plt.figure(figsize=(16, 8))\n",
    "        ax = fig.add_subplot(1, 1, 1, projection='3d')\n",
    "        ax.plot_surface(X[0], X[1], result, rstride=5, cstride=5, cmap='jet', alpha=.4, edgecolor='none')\n",
    "        plt.show()\n",
    "    elif func_name == \"rastrigin\":\n",
    "        F = 0\n",
    "        for i in range(DIM - 1):\n",
    "            z = X[i] - funcval[i]\n",
    "            F += z ** 2 - 10 * np.cos(2 * np.pi * z) + 10\n",
    "        result = F + bias\n",
    "        fig = plt.figure(figsize=(16, 8))\n",
    "        ax = fig.add_subplot(1, 1, 1, projection='3d')\n",
    "        ax.plot_surface(X[0], X[1], result, rstride=5, cstride=5, cmap='jet', alpha=.4, edgecolor='none')\n",
    "        plt.show()\n",
    "    elif func_name == \"griewank\":\n",
    "        F1 = 0\n",
    "        F2 = 1\n",
    "        for i in range(DIM - 1):\n",
    "            z = X[i] - funcval[i]\n",
    "            F1 += z ** 2 / 4000\n",
    "            F2 += np.cos(z / np.sqrt(i + 1))\n",
    "        result = F1 - F2 + 1 + bias\n",
    "        fig = plt.figure(figsize=(16, 8))\n",
    "        ax = fig.add_subplot(1, 1, 1, projection='3d')\n",
    "        ax.plot_surface(X[0], X[1], result, rstride=5, cstride=5, cmap='jet', alpha=.4, edgecolor='none')\n",
    "        plt.show()\n",
    "    elif func_name == \"ackley\":\n",
    "        Sum_0 = 0\n",
    "        Sum_1 = 0\n",
    "        for i in range(DIM - 1):\n",
    "            z = X[i] - funcval[i]\n",
    "            Sum_0 += z ** 2\n",
    "            Sum_1 += np.cos(2 * math.pi * z)\n",
    "        result = -20 * np.exp(-0.2 * np.sqrt(Sum_0 / DIM)) - np.exp(Sum_1 / DIM) + 20 + math.e + bias\n",
    "        fig = plt.figure(figsize=(16, 8))\n",
    "        ax = fig.add_subplot(1, 1, 1, projection='3d')\n",
    "        ax.plot_surface(X[0], X[1], result, rstride=5, cstride=5, cmap='jet', alpha=.4, edgecolor='none')\n",
    "        plt.show()\n",
    "    else:\n",
    "        result = 0"
   ]
  },
  {
   "cell_type": "markdown",
   "metadata": {},
   "source": [
    "## Define problem Class"
   ]
  },
  {
   "cell_type": "code",
   "execution_count": 7,
   "metadata": {},
   "outputs": [],
   "source": [
    "class Problem:\n",
    "    def __init__(self, dim, bounds, glob_opt):\n",
    "        self.lower = -bounds[1]\n",
    "        self.upper = bounds[1]\n",
    "        self.dim = dim\n",
    "        self.fitness_per_eval = []\n",
    "        self.glob_opt = glob_opt\n",
    "\n",
    "    def fitness(self, x):\n",
    "        result = abs(eval_cost(x, self.dim) - bias)\n",
    "        return [result]\n",
    "\n",
    "    def get_bounds(self):\n",
    "        x_min = self.lower * np.ones(self.dim)\n",
    "        x_max = self.upper * np.ones(self.dim)\n",
    "        return x_min, x_max"
   ]
  },
  {
   "cell_type": "markdown",
   "metadata": {},
   "source": [
    "## Represention in 2D of the function"
   ]
  },
  {
   "cell_type": "code",
   "execution_count": 8,
   "metadata": {},
   "outputs": [
    {
     "ename": "TypeError",
     "evalue": "'numpy.float64' object cannot be interpreted as an integer",
     "output_type": "error",
     "traceback": [
      "\u001b[1;31m---------------------------------------------------------------------------\u001b[0m",
      "\u001b[1;31mTypeError\u001b[0m                                 Traceback (most recent call last)",
      "\u001b[1;32m<ipython-input-8-da2a29c231ca>\u001b[0m in \u001b[0;36m<module>\u001b[1;34m\u001b[0m\n\u001b[0;32m      2\u001b[0m \u001b[0mfunc_name\u001b[0m \u001b[1;33m=\u001b[0m \u001b[1;34m'rosenbrock'\u001b[0m\u001b[1;33m\u001b[0m\u001b[1;33m\u001b[0m\u001b[0m\n\u001b[0;32m      3\u001b[0m \u001b[0mfuncval\u001b[0m\u001b[1;33m,\u001b[0m \u001b[0mbias\u001b[0m\u001b[1;33m,\u001b[0m \u001b[0msearch_space\u001b[0m \u001b[1;33m=\u001b[0m \u001b[0mread_values\u001b[0m\u001b[1;33m(\u001b[0m\u001b[0mfunc_name\u001b[0m\u001b[1;33m)\u001b[0m\u001b[1;33m\u001b[0m\u001b[1;33m\u001b[0m\u001b[0m\n\u001b[1;32m----> 4\u001b[1;33m \u001b[0mplot_func\u001b[0m\u001b[1;33m(\u001b[0m\u001b[0mfunc_name\u001b[0m\u001b[1;33m)\u001b[0m\u001b[1;33m\u001b[0m\u001b[1;33m\u001b[0m\u001b[0m\n\u001b[0m",
      "\u001b[1;32m<ipython-input-5-6880dc92b7fd>\u001b[0m in \u001b[0;36mplot_func\u001b[1;34m(func_name)\u001b[0m\n\u001b[0;32m     78\u001b[0m \u001b[1;33m\u001b[0m\u001b[0m\n\u001b[0;32m     79\u001b[0m         \u001b[1;32mfor\u001b[0m \u001b[0mi\u001b[0m \u001b[1;32min\u001b[0m \u001b[0mrange\u001b[0m\u001b[1;33m(\u001b[0m\u001b[0mDIM\u001b[0m \u001b[1;33m-\u001b[0m \u001b[1;36m1\u001b[0m\u001b[1;33m)\u001b[0m\u001b[1;33m:\u001b[0m\u001b[1;33m\u001b[0m\u001b[1;33m\u001b[0m\u001b[0m\n\u001b[1;32m---> 80\u001b[1;33m             \u001b[0mz\u001b[0m\u001b[1;33m[\u001b[0m\u001b[0mi\u001b[0m\u001b[1;33m]\u001b[0m \u001b[1;33m=\u001b[0m \u001b[0mX\u001b[0m\u001b[1;33m[\u001b[0m\u001b[0mi\u001b[0m\u001b[1;33m]\u001b[0m \u001b[1;33m-\u001b[0m \u001b[0mnp\u001b[0m\u001b[1;33m.\u001b[0m\u001b[0mndarray\u001b[0m\u001b[1;33m(\u001b[0m\u001b[0mfuncval\u001b[0m\u001b[1;33m[\u001b[0m\u001b[0mi\u001b[0m\u001b[1;33m]\u001b[0m\u001b[1;33m)\u001b[0m \u001b[1;33m+\u001b[0m \u001b[0mnp\u001b[0m\u001b[1;33m.\u001b[0m\u001b[0mndarray\u001b[0m\u001b[1;33m(\u001b[0m\u001b[1;36m1\u001b[0m\u001b[1;33m)\u001b[0m\u001b[1;33m\u001b[0m\u001b[1;33m\u001b[0m\u001b[0m\n\u001b[0m\u001b[0;32m     81\u001b[0m         \u001b[1;32mfor\u001b[0m \u001b[0mi\u001b[0m \u001b[1;32min\u001b[0m \u001b[0mrange\u001b[0m\u001b[1;33m(\u001b[0m\u001b[0mDIM\u001b[0m \u001b[1;33m-\u001b[0m \u001b[1;36m2\u001b[0m\u001b[1;33m)\u001b[0m\u001b[1;33m:\u001b[0m\u001b[1;33m\u001b[0m\u001b[1;33m\u001b[0m\u001b[0m\n\u001b[0;32m     82\u001b[0m             \u001b[0mF\u001b[0m \u001b[1;33m+=\u001b[0m \u001b[1;36m100\u001b[0m \u001b[1;33m*\u001b[0m \u001b[1;33m(\u001b[0m\u001b[0mz\u001b[0m\u001b[1;33m[\u001b[0m\u001b[0mi\u001b[0m \u001b[1;33m+\u001b[0m \u001b[1;36m1\u001b[0m\u001b[1;33m]\u001b[0m \u001b[1;33m**\u001b[0m \u001b[1;36m2.0\u001b[0m \u001b[1;33m-\u001b[0m \u001b[0mz\u001b[0m\u001b[1;33m[\u001b[0m\u001b[0mi\u001b[0m\u001b[1;33m]\u001b[0m \u001b[1;33m**\u001b[0m \u001b[1;36m2.0\u001b[0m\u001b[1;33m)\u001b[0m \u001b[1;33m+\u001b[0m \u001b[1;33m(\u001b[0m\u001b[1;36m1\u001b[0m \u001b[1;33m-\u001b[0m \u001b[0mz\u001b[0m\u001b[1;33m[\u001b[0m\u001b[0mi\u001b[0m\u001b[1;33m]\u001b[0m\u001b[1;33m)\u001b[0m \u001b[1;33m**\u001b[0m \u001b[1;36m2.0\u001b[0m\u001b[1;33m\u001b[0m\u001b[1;33m\u001b[0m\u001b[0m\n",
      "\u001b[1;31mTypeError\u001b[0m: 'numpy.float64' object cannot be interpreted as an integer"
     ]
    }
   ],
   "source": [
    "path = '../data/'\n",
    "func_name = 'rosenbrock'\n",
    "funcval, bias, search_space = read_values(func_name)\n",
    "plot_func(func_name)"
   ]
  },
  {
   "cell_type": "markdown",
   "metadata": {},
   "source": [
    "## choose the best algorithm for the problem"
   ]
  },
  {
   "cell_type": "code",
   "execution_count": 27,
   "metadata": {},
   "outputs": [
    {
     "data": {
      "image/png": "[encoded data removed]",
      "text/plain": [
       "<Figure size 432x288 with 1 Axes>"
      ]
     },
     "metadata": {
      "needs_background": "light"
     },
     "output_type": "display_data"
    }
   ],
   "source": [
    "pop_size = 100\n",
    "DIM = 50\n",
    "\n",
    "%matplotlib inline\n",
    "\n",
    "udas = [pg.sade(gen=500), pg.de(gen=500), pg.de1220(gen=500), pg.pso(gen=500), pg.bee_colony(gen=250, limit=20)]\n",
    "\n",
    "for uda in udas:\n",
    "     logs = []\n",
    "     for i in range(25):\n",
    "         algo = pg.algorithm(uda)\n",
    "         algo.set_verbosity(1) # regulates both screen and log verbosity\n",
    "         prob = pg.problem(Problem(DIM, search_space, bias))\n",
    "         pop = pg.population(prob, pop_size)\n",
    "         algo.set_verbosity(100)\n",
    "         pop = algo.evolve(pop)\n",
    "         logs.append(algo.extract(type(uda)).get_log())\n",
    "     logs = np.array(logs)\n",
    "     avg_log = np.average(logs,0)\n",
    "     plt.plot(avg_log[:,1],avg_log[:,2] , label=algo.get_name())\n",
    "     plt.legend()\n",
    "plt.savefig(\"./Results/comparaison_rosenbrock_50\" + \".png\")\n",
    "plt.show()"
   ]
  },
  {
   "cell_type": "markdown",
   "metadata": {},
   "source": [
    "Artificial bee colony seems to be best algorithm to use: "
   ]
  },
  {
   "cell_type": "code",
   "execution_count": 30,
   "metadata": {},
   "outputs": [],
   "source": [
    "# define algorithm\n",
    "DIM = 50\n",
    "pop_size = 100\n",
    "algo = pg.algorithm(pg.bee_colony(gen=5000,limit=1))\n",
    "prob = pg.problem(Problem(DIM, search_space, bias))\n",
    "pop = None\n",
    "pop = pg.population(prob, pop_size)\n",
    "algo.set_verbosity(100)\n",
    "\n",
    "t1 = time.time()\n",
    "pop = algo.evolve(pop)\n",
    "t2 = time.time()\n",
    "duration = t2 - t1\n",
    "extract_algo = algo.extract(pg.bee_colony)\n",
    "log = extract_algo.get_log()\n",
    "curve = [x[2] for x in log]\n",
    "nb_iter = log[-1][0]"
   ]
  },
  {
   "cell_type": "markdown",
   "metadata": {},
   "source": [
    "#  Print and plot the solution of the problem function"
   ]
  },
  {
   "cell_type": "code",
   "execution_count": 31,
   "metadata": {},
   "outputs": [
    {
     "name": "stdout",
     "output_type": "stream",
     "text": [
      "----------------------------------------------------------------------------------------------------\n",
      "Problem dimension: 50\n",
      "Function: 2\n",
      "Search Space :  [-100, 100]\n",
      "Global Optimum: 390.00\n",
      "----------------------------------------------------------------------------------------------------\n",
      "Algorithm used: ABC: Artificial Bee Colony\n",
      "Parameters used : \n",
      "\tMaximum number of generations: 5000\n",
      "\tLimit: 1\n",
      "\tVerbosity: 100\n",
      "\tSeed: 1392276892\n",
      "Fitness: 0.003819\n",
      "Solution: \n",
      "            X\n",
      "0  -44.777341\n",
      "1  -74.549753\n",
      "2  -50.117133\n",
      "3   11.612934\n",
      "..        ...\n",
      "46  84.584439\n",
      "47 -38.327901\n",
      "48 -24.713923\n",
      "49  -5.390950\n",
      "\n",
      "[50 rows x 1 columns]\n",
      "Number of iterations: 1000100\n",
      "Stopping criterion: after 4901 iterations\n",
      "computational time: 11.634 seconds\n"
     ]
    },
    {
     "data": {
      "image/png": "[encoded data removed]",
      "text/plain": [
       "<Figure size 432x288 with 1 Axes>"
      ]
     },
     "metadata": {
      "needs_background": "light"
     },
     "output_type": "display_data"
    }
   ],
   "source": [
    "algorithm_name = algo.get_name()\n",
    "parameters = algo.get_extra_info()\n",
    "solution_x = pop.champion_x\n",
    "fitness = pop.champion_f[0]\n",
    "n_evals = pop.problem.get_fevals()\n",
    "print('-' * 100)\n",
    "print(\"Problem dimension: %d\" % DIM)\n",
    "print(\"Function: %s\" % Dict_funcs[func_name])\n",
    "print(\"Search Space : \", search_space)\n",
    "print(\"Global Optimum: %.2f\" % bias)\n",
    "print('-' * 100)\n",
    "print(\"Algorithm used: %s\" % algorithm_name)\n",
    "print(\"Parameters used : \\n%s\" % parameters)\n",
    "print(\"Fitness: %f\" % fitness)\n",
    "print(\"Solution: \")\n",
    "with pd.option_context('display.max_rows', 8):\n",
    "    print(pd.DataFrame(solution_x, columns=['X']))\n",
    "print(\"Number of iterations: %d\" % n_evals)\n",
    "print(\"Stopping criterion: after %d iterations\" % nb_iter)\n",
    "print(\"computational time: %.3f seconds\" % duration)\n",
    "\n",
    "plt.plot(curve)\n",
    "plt.xlabel(\"iterations (x100)\")\n",
    "plt.ylabel(\"fitness: f(x)-f(x*)\")\n",
    "plt.savefig(\"./Results/sol_rosenbrock_50\" + \".png\")\n",
    "plt.show()"
   ]
  }
 ],
 "metadata": {
  "kernelspec": {
   "display_name": "Python 3",
   "language": "python",
   "name": "python3"
  },
  "language_info": {
   "codemirror_mode": {
    "name": "ipython",
    "version": 3
   },
   "file_extension": ".py",
   "mimetype": "text/x-python",
   "name": "python",
   "nbconvert_exporter": "python",
   "pygments_lexer": "ipython3",
   "version": "3.7.4"
  }
 },
 "nbformat": 4,
 "nbformat_minor": 2
}
